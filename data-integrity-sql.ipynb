{
 "cells": [
  {
   "cell_type": "code",
   "execution_count": 1,
   "metadata": {
    "collapsed": true
   },
   "outputs": [],
   "source": [
    "import pandas as pd\n",
    "import random"
   ]
  },
  {
   "cell_type": "code",
   "execution_count": 2,
   "metadata": {
    "collapsed": true
   },
   "outputs": [],
   "source": [
    "minutes = range(1, 1441)\n",
    "dataChoices = ['foo', 'bar', 'foobar', 'fiz', 'buzz', 'fizzbuzz']"
   ]
  },
  {
   "cell_type": "code",
   "execution_count": 3,
   "metadata": {
    "collapsed": true
   },
   "outputs": [],
   "source": [
    "# Properties the data must have for each user\n",
    "\n",
    "# 1. Each number from N = {1, 2, 3, ... 1440} must be present\n",
    "#    Solution:  For each user,\n",
    "#               Check for SUM(minutes) = 1037520 \n",
    "\n",
    "# 2. Numbers outside of N, e.g. -1, 1441, etc. are NOT allowed\n",
    "#    Solution: For each user,\n",
    "#              Check for MIN(minutes) = 1 AND MAX(minutes) = 1440\n",
    "\n",
    "# 3. Unqique entry of any minute in N for a given user \n",
    "#    Solution: For each user,\n",
    "#              Check for COUNT(DISTINCT(minutes) = 1440"
   ]
  },
  {
   "cell_type": "code",
   "execution_count": 4,
   "metadata": {
    "collapsed": false
   },
   "outputs": [],
   "source": [
    "# Define patients 1 and 2, as having all records conforming to spec\n",
    "\n",
    "df1 = pd.DataFrame({'user_id'   : [1 for m in minutes],\n",
    "                    'minutes'   : minutes,\n",
    "                    'data'      : [random.choice(dataChoices) for _ in minutes]})\n",
    "\n",
    "df2 = pd.DataFrame({'user_id'   : [2 for m in minutes],\n",
    "                    'minutes'   : minutes,\n",
    "                    'data'      : [random.choice(dataChoices) for _ in minutes]})"
   ]
  },
  {
   "cell_type": "markdown",
   "metadata": {},
   "source": [
    "## Define a test function to ensure that the fake data can generate all of the possible failure modes"
   ]
  },
  {
   "cell_type": "code",
   "execution_count": 5,
   "metadata": {
    "collapsed": false
   },
   "outputs": [],
   "source": [
    "from collections import Counter\n",
    "\n",
    "def num_distinct(arr):\n",
    "    return sum(Counter(arr).values())\n",
    "\n",
    "def test_minutes(arr):\n",
    "    \n",
    "    sumTest      =  ( sum(arr) == 1037520 ) # sum(1, 2, ...., 1440) = 1037520 \n",
    "    boundaryTest = ( min(arr) == 1 and max(arr) == 1440 ) \n",
    "    distinctTest = ( num_distinct(arr) == 1440 )\n",
    "   \n",
    "    if sumTest:      print \"Summation test:  PASS\"\n",
    "    else:            print \"Summation test:  FAIL\"\n",
    "        \n",
    "    if boundaryTest: print \"Boundary test:   PASS\"\n",
    "    else:            print \"Boundary test:   FAIL\"    \n",
    "    \n",
    "    if distinctTest: print \"Uniqueness test: PASS\"\n",
    "    else:            print \"Uniqueness test: FAIL\"\n",
    "    \n",
    "    return"
   ]
  },
  {
   "cell_type": "code",
   "execution_count": 6,
   "metadata": {
    "collapsed": false
   },
   "outputs": [
    {
     "name": "stdout",
     "output_type": "stream",
     "text": [
      "Summation test:  FAIL\n",
      "Boundary test:   FAIL\n",
      "Uniqueness test: FAIL\n"
     ]
    }
   ],
   "source": [
    "# Define some malformed minutes data, there should be a max of 2^3 - 1 non-passing combinations:\n",
    "\n",
    "# Sum test          : FAIL \n",
    "# Boundary test     : FAIL\n",
    "# Unique count test : FAIL\n",
    "user3Min = [-1] + minutes\n",
    "test_minutes(user3Min)"
   ]
  },
  {
   "cell_type": "code",
   "execution_count": 7,
   "metadata": {
    "collapsed": false
   },
   "outputs": [
    {
     "name": "stdout",
     "output_type": "stream",
     "text": [
      "Summation test:  FAIL\n",
      "Boundary test:   FAIL\n",
      "Uniqueness test: PASS\n"
     ]
    }
   ],
   "source": [
    "# Sum test          : FAIL\n",
    "# Boundary test     : FAIL\n",
    "# Unique count test : PASS\n",
    "user4Min = [x for x in range(1, 1441) if x != 42] + [1441] \n",
    "test_minutes(user4Min)"
   ]
  },
  {
   "cell_type": "code",
   "execution_count": 8,
   "metadata": {
    "collapsed": true
   },
   "outputs": [],
   "source": [
    "# CANNOT OCCUR\n",
    "# Sum test          : FAIL\n",
    "# Boundary test     : PASS\n",
    "# Unique count test : PASS"
   ]
  },
  {
   "cell_type": "code",
   "execution_count": 9,
   "metadata": {
    "collapsed": false
   },
   "outputs": [
    {
     "name": "stdout",
     "output_type": "stream",
     "text": [
      "Summation test:  FAIL\n",
      "Boundary test:   PASS\n",
      "Uniqueness test: FAIL\n"
     ]
    }
   ],
   "source": [
    "# Sum test          : FAIL \n",
    "# Boundary test     : PASS\n",
    "# Unique count test : FAIL\n",
    "user5Min = [1, 2, 3] + range(5, 1441)\n",
    "test_minutes(user5Min)"
   ]
  },
  {
   "cell_type": "code",
   "execution_count": 10,
   "metadata": {
    "collapsed": false
   },
   "outputs": [
    {
     "name": "stdout",
     "output_type": "stream",
     "text": [
      "Summation test:  PASS\n",
      "Boundary test:   PASS\n",
      "Uniqueness test: FAIL\n"
     ]
    }
   ],
   "source": [
    "# Sum test          : PASS  \n",
    "# Boundary test     : PASS\n",
    "# Unique count test : FAIL\n",
    "user6Min = [1, 2, 2, 2, 3] + range(5, 1441)\n",
    "test_minutes(user6Min)"
   ]
  },
  {
   "cell_type": "code",
   "execution_count": 11,
   "metadata": {
    "collapsed": false
   },
   "outputs": [
    {
     "name": "stdout",
     "output_type": "stream",
     "text": [
      "Summation test:  PASS\n",
      "Boundary test:   FAIL\n",
      "Uniqueness test: FAIL\n"
     ]
    }
   ],
   "source": [
    "# Sum test          : PASS \n",
    "# Boundary test     : FAIL\n",
    "# Unique count test : FAIL\n",
    "user7Min = [-3, 1, 2, 3, 3] + range(4, 1441)\n",
    "test_minutes(user7Min)"
   ]
  },
  {
   "cell_type": "code",
   "execution_count": 12,
   "metadata": {
    "collapsed": false
   },
   "outputs": [
    {
     "name": "stdout",
     "output_type": "stream",
     "text": [
      "Summation test:  PASS\n",
      "Boundary test:   FAIL\n",
      "Uniqueness test: PASS\n"
     ]
    }
   ],
   "source": [
    "# Sum test          : PASS \n",
    "# Boundary test     : FAIL\n",
    "# Unique count test : PASS\n",
    "user8Min = range(-1440/2, 0) + range(2, 1440/2 + 1) + [1037521]\n",
    "test_minutes(user8Min)"
   ]
  },
  {
   "cell_type": "code",
   "execution_count": 13,
   "metadata": {
    "collapsed": false
   },
   "outputs": [],
   "source": [
    "df3 = pd.DataFrame({'user_id'   : [3 for m in user3Min],\n",
    "                    'minutes'   : user3Min,\n",
    "                    'data'      : [random.choice(dataChoices) for _ in user3Min]})\n",
    "\n",
    "df4 = pd.DataFrame({'user_id'   : [4 for m in user4Min],\n",
    "                    'minutes'   : user4Min,\n",
    "                    'data'      : [random.choice(dataChoices) for _ in user4Min]})\n",
    "\n",
    "df5 = pd.DataFrame({'user_id'   : [5 for m in user5Min],\n",
    "                    'minutes'   : user5Min,\n",
    "                    'data'      : [random.choice(dataChoices) for _ in user5Min]})\n",
    "\n",
    "df6 = pd.DataFrame({'user_id'   : [6 for m in user6Min],\n",
    "                    'minutes'   : user6Min,\n",
    "                    'data'      : [random.choice(dataChoices) for _ in user6Min]})\n",
    "\n",
    "df7 = pd.DataFrame({'user_id'   : [7 for m in user7Min],\n",
    "                    'minutes'   : user7Min,\n",
    "                    'data'      : [random.choice(dataChoices) for _ in user7Min]})\n",
    "\n",
    "df8 = pd.DataFrame({'user_id'   : [8 for m in user8Min],\n",
    "                    'minutes'   : user8Min,\n",
    "                    'data'      : [random.choice(dataChoices) for _ in user8Min]})"
   ]
  },
  {
   "cell_type": "code",
   "execution_count": 14,
   "metadata": {
    "collapsed": false
   },
   "outputs": [],
   "source": [
    "df = pd.concat([df1, df2, df3, df4, df5, df6, df7, df8])"
   ]
  },
  {
   "cell_type": "code",
   "execution_count": 15,
   "metadata": {
    "collapsed": false
   },
   "outputs": [],
   "source": [
    "from pandasql import sqldf"
   ]
  },
  {
   "cell_type": "code",
   "execution_count": 16,
   "metadata": {
    "collapsed": true
   },
   "outputs": [],
   "source": [
    "pysqldf = lambda q: sqldf(q, globals())"
   ]
  },
  {
   "cell_type": "code",
   "execution_count": 17,
   "metadata": {
    "collapsed": true
   },
   "outputs": [],
   "source": [
    "q = \"\"\"\n",
    "\n",
    "SELECT *\n",
    "\n",
    "FROM\n",
    "\n",
    "    (SELECT\n",
    "        user_id,\n",
    "        MIN(minutes) as min_minute,\n",
    "        MAX(minutes) as max_minute,\n",
    "        SUM(minutes) as sum_minutes,\n",
    "        COUNT(DISTINCT(minutes)) as distinct_minutes\n",
    "\n",
    "    FROM df\n",
    "\n",
    "    GROUP BY user_id) a\n",
    "\n",
    "WHERE\n",
    "    min_minute       = 1\n",
    "AND max_minute       = 1440\n",
    "AND sum_minutes      = 1037520\n",
    "AND distinct_minutes = 1440\n",
    "    \n",
    "\n",
    "\"\"\""
   ]
  },
  {
   "cell_type": "code",
   "execution_count": 18,
   "metadata": {
    "collapsed": false
   },
   "outputs": [],
   "source": [
    "output = pysqldf(q)"
   ]
  },
  {
   "cell_type": "markdown",
   "metadata": {},
   "source": [
    "## Inspecting the output shows what we expect -- only users 1 and 2 are returned because all other users have been filtered out due to one of the following:\n",
    "1. Malformed data\n",
    "2. Missing data\n",
    "3. Duplicate data"
   ]
  },
  {
   "cell_type": "code",
   "execution_count": 19,
   "metadata": {
    "collapsed": false
   },
   "outputs": [
    {
     "data": {
      "text/html": [
       "<div>\n",
       "<table border=\"1\" class=\"dataframe\">\n",
       "  <thead>\n",
       "    <tr style=\"text-align: right;\">\n",
       "      <th></th>\n",
       "      <th>user_id</th>\n",
       "      <th>min_minute</th>\n",
       "      <th>max_minute</th>\n",
       "      <th>sum_minutes</th>\n",
       "      <th>distinct_minutes</th>\n",
       "    </tr>\n",
       "  </thead>\n",
       "  <tbody>\n",
       "    <tr>\n",
       "      <th>0</th>\n",
       "      <td>1</td>\n",
       "      <td>1</td>\n",
       "      <td>1440</td>\n",
       "      <td>1037520</td>\n",
       "      <td>1440</td>\n",
       "    </tr>\n",
       "    <tr>\n",
       "      <th>1</th>\n",
       "      <td>2</td>\n",
       "      <td>1</td>\n",
       "      <td>1440</td>\n",
       "      <td>1037520</td>\n",
       "      <td>1440</td>\n",
       "    </tr>\n",
       "  </tbody>\n",
       "</table>\n",
       "</div>"
      ],
      "text/plain": [
       "   user_id  min_minute  max_minute  sum_minutes  distinct_minutes\n",
       "0        1           1        1440      1037520              1440\n",
       "1        2           1        1440      1037520              1440"
      ]
     },
     "execution_count": 19,
     "metadata": {},
     "output_type": "execute_result"
    }
   ],
   "source": [
    "output"
   ]
  },
  {
   "cell_type": "code",
   "execution_count": null,
   "metadata": {
    "collapsed": true
   },
   "outputs": [],
   "source": []
  }
 ],
 "metadata": {
  "anaconda-cloud": {},
  "kernelspec": {
   "display_name": "Python [Root]",
   "language": "python",
   "name": "Python [Root]"
  },
  "language_info": {
   "codemirror_mode": {
    "name": "ipython",
    "version": 2
   },
   "file_extension": ".py",
   "mimetype": "text/x-python",
   "name": "python",
   "nbconvert_exporter": "python",
   "pygments_lexer": "ipython2",
   "version": "2.7.12"
  }
 },
 "nbformat": 4,
 "nbformat_minor": 0
}
