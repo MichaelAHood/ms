{
 "cells": [
  {
   "cell_type": "code",
   "execution_count": 1,
   "metadata": {
    "collapsed": true
   },
   "outputs": [],
   "source": [
    "import numpy as np"
   ]
  },
  {
   "cell_type": "code",
   "execution_count": 3,
   "metadata": {
    "collapsed": false
   },
   "outputs": [
    {
     "name": "stdout",
     "output_type": "stream",
     "text": [
      "[13, 19, 18, -10, 12, 1, -2, 6, 16, 1]\n"
     ]
    }
   ],
   "source": [
    "# First, create an array of random integers\n",
    "\n",
    "arr = np.random.choice(range(-10, 20), size=10).tolist()\n",
    "print arr"
   ]
  },
  {
   "cell_type": "code",
   "execution_count": 4,
   "metadata": {
    "collapsed": false
   },
   "outputs": [
    {
     "name": "stdout",
     "output_type": "stream",
     "text": [
      "[-10, -2, 1, 1, 6, 12, 13, 16, 18, 19]\n"
     ]
    }
   ],
   "source": [
    "# Now, sort them.\n",
    "\n",
    "arr = sorted(arr)\n",
    "print arr"
   ]
  },
  {
   "cell_type": "code",
   "execution_count": 6,
   "metadata": {
    "collapsed": true
   },
   "outputs": [],
   "source": [
    "# Define a procedure to create a sparse array.\n",
    "\n",
    "def create_sparse_array(arr):\n",
    "    \n",
    "    sparse = []\n",
    "    ix = 0\n",
    "    \n",
    "    for i in range(arr[0], arr[-1] + 1):\n",
    "        if i not in arr:\n",
    "            sparse.append(0)    \n",
    "        else:\n",
    "            sparse.append(1)\n",
    "            ix += 1\n",
    "    \n",
    "    return sparse"
   ]
  },
  {
   "cell_type": "code",
   "execution_count": 8,
   "metadata": {
    "collapsed": false
   },
   "outputs": [
    {
     "name": "stdout",
     "output_type": "stream",
     "text": [
      "[1, 0, 0, 0, 0, 0, 0, 0, 1, 0, 0, 1, 0, 0, 0, 0, 1, 0, 0, 0, 0, 0, 1, 1, 0, 0, 1, 0, 1, 1]\n"
     ]
    }
   ],
   "source": [
    "sparse = create_sparse_array(arr)\n",
    "print sparse"
   ]
  },
  {
   "cell_type": "code",
   "execution_count": 95,
   "metadata": {
    "collapsed": false
   },
   "outputs": [
    {
     "data": {
      "text/plain": [
       "[-10, -2, 1, 1, 6, 12, 13, 16, 18, 19]"
      ]
     },
     "execution_count": 95,
     "metadata": {},
     "output_type": "execute_result"
    }
   ],
   "source": [
    "arr"
   ]
  },
  {
   "cell_type": "code",
   "execution_count": 141,
   "metadata": {
    "collapsed": false
   },
   "outputs": [],
   "source": [
    "# Iterates through each element in the sorted array\n",
    "# if sparse[arr[0] + k - element] == 1, then the value is present\n",
    "# in the array and we can return the element, and k - element\n",
    "\n",
    "def get_two(sparse, arr, k):\n",
    "    for val in arr:\n",
    "        if k - val >= arr[0]:\n",
    "            if k - val <= arr[-1]: \n",
    "                sparseVal = sparse[abs(arr[0]) + k - val]\n",
    "                if sparseVal == 1:\n",
    "                    return (val, k - val)"
   ]
  },
  {
   "cell_type": "code",
   "execution_count": 146,
   "metadata": {
    "collapsed": false
   },
   "outputs": [
    {
     "name": "stdout",
     "output_type": "stream",
     "text": [
      "22 (6, 16)\n",
      "-4 (-10, 6)\n",
      "4 (-2, 6)\n",
      "0 None\n",
      "-10 None\n",
      "-13 None\n"
     ]
    }
   ],
   "source": [
    "# Some test output\n",
    "\n",
    "print 22,  get_two(sparse, arr, k=22)\n",
    "print -4,  get_two(sparse, arr, k=-4)\n",
    "print 4,   get_two(sparse, arr, k=4)\n",
    "print 0,   get_two(sparse, arr, k=0)\n",
    "print -10, get_two(sparse, arr, k=-10)\n",
    "print -13, get_two(sparse, arr, k=-13)"
   ]
  },
  {
   "cell_type": "code",
   "execution_count": null,
   "metadata": {
    "collapsed": true
   },
   "outputs": [],
   "source": []
  }
 ],
 "metadata": {
  "anaconda-cloud": {},
  "kernelspec": {
   "display_name": "Python [Root]",
   "language": "python",
   "name": "Python [Root]"
  },
  "language_info": {
   "codemirror_mode": {
    "name": "ipython",
    "version": 2
   },
   "file_extension": ".py",
   "mimetype": "text/x-python",
   "name": "python",
   "nbconvert_exporter": "python",
   "pygments_lexer": "ipython2",
   "version": "2.7.12"
  }
 },
 "nbformat": 4,
 "nbformat_minor": 0
}
