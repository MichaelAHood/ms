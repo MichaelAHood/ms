{
 "cells": [
  {
   "cell_type": "code",
   "execution_count": 8,
   "metadata": {
    "collapsed": true
   },
   "outputs": [],
   "source": [
    "import numpy as np\n",
    "import random\n",
    "import string"
   ]
  },
  {
   "cell_type": "code",
   "execution_count": 13,
   "metadata": {
    "collapsed": false
   },
   "outputs": [],
   "source": [
    "# Generate a fake big data file to test the idea\n",
    "\n",
    "N = 100000\n",
    "someText = [''.join(random.choice(string.ascii_uppercase) for _ in xrange(10)) \n",
    "                                                          for line in xrange(N)]\n",
    "bigFile = zip(range(N), someText)"
   ]
  },
  {
   "cell_type": "code",
   "execution_count": 14,
   "metadata": {
    "collapsed": true
   },
   "outputs": [],
   "source": [
    "# The idea is that this file is too big to look at all at once, so we want to randomly sample\n",
    "# in such a way that every line is equally likely to be in our sample.\n",
    "\n",
    "# First create a resevoir with K lines in it\n",
    "K = 100\n",
    "resevoir = []\n",
    "\n",
    "for line in bigFile:\n",
    "    # The first K lines go into the resevoir\n",
    "    if line[0] < K:\n",
    "        resevoir.append(line)\n",
    "    else:\n",
    "        # Choose a random integer in the range from 0 to the current line index\n",
    "        randInt = random.randint(0, line[0])\n",
    "        # If the random integer is less than K, replace the line at resevoir index\n",
    "        # randInt with the current line\n",
    "        if randInt < K:\n",
    "            resevoir[randInt] = line"
   ]
  },
  {
   "cell_type": "code",
   "execution_count": 16,
   "metadata": {
    "collapsed": false
   },
   "outputs": [],
   "source": [
    "import matplotlib.pyplot as plt\n",
    "%matplotlib inline"
   ]
  },
  {
   "cell_type": "code",
   "execution_count": 22,
   "metadata": {
    "collapsed": false
   },
   "outputs": [
    {
     "data": {
      "text/plain": [
       "[(67515, 'CSNTTBSHWI'),\n",
       " (42551, 'RLZIYUOOED'),\n",
       " (91542, 'HQSNHHFKCJ'),\n",
       " (15375, 'VOTHHWMRQC'),\n",
       " (89592, 'FTCQYUSWBX'),\n",
       " (99865, 'GZSUWGEGSB'),\n",
       " (23980, 'BSHLSWJYKS'),\n",
       " (18165, 'NHBUVZIISW'),\n",
       " (5067, 'WTIJVSQVFV'),\n",
       " (55532, 'FJSVZXTRHK')]"
      ]
     },
     "execution_count": 22,
     "metadata": {},
     "output_type": "execute_result"
    }
   ],
   "source": [
    "# Here are the first ten... they look pretty random.\n",
    "resevoir[:10]"
   ]
  },
  {
   "cell_type": "code",
   "execution_count": 23,
   "metadata": {
    "collapsed": false
   },
   "outputs": [
    {
     "data": {
      "text/plain": [
       "(array([ 12.,  10.,  10.,  11.,  10.,  12.,   8.,   8.,   8.,  11.]),\n",
       " array([  1.00000000e+01,   9.99550000e+03,   1.99810000e+04,\n",
       "          2.99665000e+04,   3.99520000e+04,   4.99375000e+04,\n",
       "          5.99230000e+04,   6.99085000e+04,   7.98940000e+04,\n",
       "          8.98795000e+04,   9.98650000e+04]),\n",
       " <a list of 10 Patch objects>)"
      ]
     },
     "execution_count": 23,
     "metadata": {},
     "output_type": "execute_result"
    },
    {
     "data": {
      "image/png": "[encoded data removed]",
      "text/plain": [
       "<matplotlib.figure.Figure at 0x1145bc050>"
      ]
     },
     "metadata": {},
     "output_type": "display_data"
    }
   ],
   "source": [
    "# A histogram plot should look mostly uniform\n",
    "\n",
    "linesNums = [line[0] for line in resevoir]\n",
    "plt.hist(linesNums)"
   ]
  },
  {
   "cell_type": "code",
   "execution_count": null,
   "metadata": {
    "collapsed": true
   },
   "outputs": [],
   "source": []
  }
 ],
 "metadata": {
  "kernelspec": {
   "display_name": "Python [Root]",
   "language": "python",
   "name": "Python [Root]"
  },
  "language_info": {
   "codemirror_mode": {
    "name": "ipython",
    "version": 2
   },
   "file_extension": ".py",
   "mimetype": "text/x-python",
   "name": "python",
   "nbconvert_exporter": "python",
   "pygments_lexer": "ipython2",
   "version": "2.7.12"
  }
 },
 "nbformat": 4,
 "nbformat_minor": 0
}
