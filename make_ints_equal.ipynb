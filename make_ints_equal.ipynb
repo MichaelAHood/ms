{
 "cells": [
  {
   "cell_type": "markdown",
   "metadata": {},
   "source": [
    "## Here is psuedo code for my approach to solving Alex's problem:\n",
    "\n",
    "While all integers are not equal:\n",
    "\n",
    "    1. Let the K-1 integers be the set, S, of all integers except for the last one (the largest). If there are more than one biggest integer, then choose of the biggest integers to not be included in S.  \n",
    "    2. Apply the +1 operation until the new biggest integer(s) of set S is one greater than the previous largest integer. Between each +1 operation check to see if the integers are all equal. If so, break out of the loop and returns the entire list.\n",
    "    3. Repeat steps 1 and 2 until all of the integers are the same value."
   ]
  },
  {
   "cell_type": "markdown",
   "metadata": {},
   "source": [
    "### This is not quite a proof, but the pattern seems to result in the same number of operations as when I work out the steps of the algorithm by hand.\n",
    "\n",
    "Given an array of K=4 integers: [-1, 2, 7, 13]\n",
    "\n",
    "It takes 14 operations for the smallest integer, -1, to be equal to the biggest integer, 13. During those 14 operations all of the integers K - 1 have increased by 14, resulting in a reduced array of:\n",
    "\n",
    "[13, 16, 21]\n",
    "\n",
    "It takes 8 operations for the smallest integer, 13, to be equal to the biggest integer, 21. During those 8 operations all of the integers K - 2 have increased by 8, resulting in a reduced array of:\n",
    "\n",
    "[21, 24]\n",
    "\n",
    "It takes 3 operations for the smallest integer, 21, to be equal to the biggest integer, 24. During those 3 operations all of the integers K - 3 have increased by 3, resulting in a reduced array of:\n",
    "\n",
    "[24]\n",
    "\n",
    "There are no more operations to take, so we add up the total number of operations: 14 + 8 + 3 = 25 total operations.\n",
    "\n",
    "This procedure corresponds to what I get when I work out different random arrays out by hand."
   ]
  },
  {
   "cell_type": "code",
   "execution_count": 217,
   "metadata": {
    "collapsed": true
   },
   "outputs": [],
   "source": [
    "def get_num_operations(arr):\n",
    "    # Takes as input a sorted array\n",
    "    numSteps = arr[-1] - arr[0]\n",
    "    if len(arr) == 2: \n",
    "        return numSteps \n",
    "    return numSteps + get_num_operations([el + numSteps for el in arr[:-1]])"
   ]
  },
  {
   "cell_type": "code",
   "execution_count": 221,
   "metadata": {
    "collapsed": false
   },
   "outputs": [
    {
     "name": "stdout",
     "output_type": "stream",
     "text": [
      "1\n"
     ]
    }
   ],
   "source": [
    "arr = [1, 2]\n",
    "print get_num_operations(arr)"
   ]
  },
  {
   "cell_type": "code",
   "execution_count": 223,
   "metadata": {
    "collapsed": false
   },
   "outputs": [
    {
     "name": "stdout",
     "output_type": "stream",
     "text": [
      "2\n"
     ]
    }
   ],
   "source": [
    "arr = [2, 2, 4]\n",
    "print get_num_operations(arr)"
   ]
  },
  {
   "cell_type": "code",
   "execution_count": 224,
   "metadata": {
    "collapsed": false
   },
   "outputs": [
    {
     "name": "stdout",
     "output_type": "stream",
     "text": [
      "6\n"
     ]
    }
   ],
   "source": [
    "arr = [2, 4, 6]\n",
    "print get_num_operations(arr)"
   ]
  },
  {
   "cell_type": "code",
   "execution_count": 222,
   "metadata": {
    "collapsed": false
   },
   "outputs": [
    {
     "name": "stdout",
     "output_type": "stream",
     "text": [
      "25\n"
     ]
    }
   ],
   "source": [
    "arr = [-1, 2, 7, 13]\n",
    "print get_num_operations(arr)"
   ]
  },
  {
   "cell_type": "code",
   "execution_count": 226,
   "metadata": {
    "collapsed": false
   },
   "outputs": [
    {
     "name": "stdout",
     "output_type": "stream",
     "text": [
      "[6, 9, 12, 11, 13, 15, 15, 4, 8, 4]\n",
      "37\n"
     ]
    }
   ],
   "source": [
    "import numpy as np\n",
    "\n",
    "sortedArr = np.random.choice(range(20), size=10).tolist()\n",
    "print sortedArr\n",
    "print get_num_operations(sortedArr)"
   ]
  },
  {
   "cell_type": "code",
   "execution_count": null,
   "metadata": {
    "collapsed": true
   },
   "outputs": [],
   "source": []
  }
 ],
 "metadata": {
  "kernelspec": {
   "display_name": "Python [Root]",
   "language": "python",
   "name": "Python [Root]"
  },
  "language_info": {
   "codemirror_mode": {
    "name": "ipython",
    "version": 2
   },
   "file_extension": ".py",
   "mimetype": "text/x-python",
   "name": "python",
   "nbconvert_exporter": "python",
   "pygments_lexer": "ipython2",
   "version": "2.7.12"
  }
 },
 "nbformat": 4,
 "nbformat_minor": 0
}
